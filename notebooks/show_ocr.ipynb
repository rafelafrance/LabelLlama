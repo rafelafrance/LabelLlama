{
 "cells": [
  {
   "cell_type": "markdown",
   "id": "5f6daff3-a93b-4aa8-aa16-51b4f1ced2c8",
   "metadata": {},
   "source": [
    "# Display OCR results"
   ]
  },
  {
   "cell_type": "code",
   "execution_count": 6,
   "id": "434eba1c-7c3b-4a88-8e15-00edeac68f84",
   "metadata": {
    "execution": {
     "iopub.execute_input": "2025-06-08T20:35:59.811952Z",
     "iopub.status.busy": "2025-06-08T20:35:59.811525Z",
     "iopub.status.idle": "2025-06-08T20:35:59.851490Z",
     "shell.execute_reply": "2025-06-08T20:35:59.850944Z",
     "shell.execute_reply.started": "2025-06-08T20:35:59.811936Z"
    }
   },
   "outputs": [
    {
     "ename": "ModuleNotFoundError",
     "evalue": "No module named 'PIL'",
     "output_type": "error",
     "traceback": [
      "\u001b[0;31m---------------------------------------------------------------------------\u001b[0m",
      "\u001b[0;31mModuleNotFoundError\u001b[0m                       Traceback (most recent call last)",
      "Cell \u001b[0;32mIn[6], line 6\u001b[0m\n\u001b[1;32m      3\u001b[0m \u001b[38;5;28;01mfrom\u001b[39;00m \u001b[38;5;21;01mpathlib\u001b[39;00m \u001b[38;5;28;01mimport\u001b[39;00m Path\n\u001b[1;32m      5\u001b[0m \u001b[38;5;28;01mfrom\u001b[39;00m \u001b[38;5;21;01mipywidgets\u001b[39;00m \u001b[38;5;28;01mimport\u001b[39;00m interact\n\u001b[0;32m----> 6\u001b[0m \u001b[38;5;28;01mfrom\u001b[39;00m \u001b[38;5;21;01mPIL\u001b[39;00m \u001b[38;5;28;01mimport\u001b[39;00m Image\n",
      "\u001b[0;31mModuleNotFoundError\u001b[0m: No module named 'PIL'"
     ]
    }
   ],
   "source": [
    "import json\n",
    "from dataclasses import dataclass\n",
    "from pathlib import Path\n",
    "\n",
    "from ipywidgets import interact\n",
    "from PIL import Image"
   ]
  },
  {
   "cell_type": "code",
   "execution_count": 3,
   "id": "94d9b646-af59-4099-9056-308a766fa44f",
   "metadata": {
    "execution": {
     "iopub.execute_input": "2025-06-08T20:13:34.810117Z",
     "iopub.status.busy": "2025-06-08T20:13:34.809828Z",
     "iopub.status.idle": "2025-06-08T20:13:34.812960Z",
     "shell.execute_reply": "2025-06-08T20:13:34.812522Z",
     "shell.execute_reply.started": "2025-06-08T20:13:34.810094Z"
    }
   },
   "outputs": [],
   "source": [
    "label_dir = Path(\"..\") / \"data\" / \"sheets_001\"\n",
    "olmocr_json = Path(\"..\") / \"data\" / \"output_2caa8c7551c0663fa1367665d9fa79f65d9c4770.jsonl\""
   ]
  },
  {
   "cell_type": "code",
   "execution_count": 5,
   "id": "eaa0b318-767c-4fdf-a24a-a39f0e6e4333",
   "metadata": {
    "execution": {
     "iopub.execute_input": "2025-06-08T20:14:38.002019Z",
     "iopub.status.busy": "2025-06-08T20:14:38.001630Z",
     "iopub.status.idle": "2025-06-08T20:14:38.012446Z",
     "shell.execute_reply": "2025-06-08T20:14:38.012053Z",
     "shell.execute_reply.started": "2025-06-08T20:14:38.002002Z"
    }
   },
   "outputs": [
    {
     "data": {
      "text/plain": [
       "[PosixPath('../data/sheets_001/837035.jpg'),\n",
       " PosixPath('../data/sheets_001/901404.jpg'),\n",
       " PosixPath('../data/sheets_001/906669.jpg'),\n",
       " PosixPath('../data/sheets_001/827565.jpg'),\n",
       " PosixPath('../data/sheets_001/916153.jpg'),\n",
       " PosixPath('../data/sheets_001/975070.jpg'),\n",
       " PosixPath('../data/sheets_001/810938.jpg'),\n",
       " PosixPath('../data/sheets_001/831406.jpg'),\n",
       " PosixPath('../data/sheets_001/935822.jpg'),\n",
       " PosixPath('../data/sheets_001/907660.jpg')]"
      ]
     },
     "execution_count": 5,
     "metadata": {},
     "output_type": "execute_result"
    }
   ],
   "source": [
    "@dataclass\n",
    "class Label:\n",
    "    type: str\n",
    "    name: str\n",
    "    text: str\n",
    "    path: str"
   ]
  },
  {
   "cell_type": "markdown",
   "id": "f28e30a9-973b-4710-adbe-3e1dcd4c6fcd",
   "metadata": {},
   "source": [
    "## Read JSONL file with OCR results"
   ]
  },
  {
   "cell_type": "code",
   "execution_count": null,
   "id": "92401eb0-cbd1-49ca-9280-86e47682d41c",
   "metadata": {},
   "outputs": [],
   "source": [
    "with args.olmocr_jsonl.open() as f:\n",
    "    ocr = [json.loads(ln) for ln in f]"
   ]
  },
  {
   "cell_type": "code",
   "execution_count": null,
   "id": "2375ac6d-4766-4898-b3e6-ae483c28a1ba",
   "metadata": {},
   "outputs": [],
   "source": [
    "labels = []\n",
    "for label in ocr:\n",
    "    ocr_path = Path(label[\"metadata\"][\"Source-File\"])\n",
    "    type_ = ocr_path.stem.split(\"_\")[1]\n",
    "    image_path = args.label_dir / ocr_path.name\n",
    "    labels.append(\n",
    "        Label(type=type_, name=ocr_path.name, text=label[\"text\"], path=image_path)\n",
    "    )"
   ]
  },
  {
   "cell_type": "code",
   "execution_count": null,
   "id": "7b58cfcb-a70b-4f98-8b8d-b0fa742f6a8d",
   "metadata": {},
   "outputs": [],
   "source": [
    "def show_ocr(labels, idx):\n",
    "    "
   ]
  },
  {
   "cell_type": "code",
   "execution_count": null,
   "id": "356d9c20-b1c9-418d-b0a6-3c93e9f90a95",
   "metadata": {},
   "outputs": [],
   "source": []
  },
  {
   "cell_type": "code",
   "execution_count": null,
   "id": "93819e35-eea3-4dad-b685-af7ab4cef651",
   "metadata": {},
   "outputs": [],
   "source": []
  },
  {
   "cell_type": "code",
   "execution_count": null,
   "id": "471dbb92-5d94-479e-9e5a-66ca5384be6a",
   "metadata": {},
   "outputs": [],
   "source": []
  }
 ],
 "metadata": {
  "kernelspec": {
   "display_name": "Python 3 (ipykernel)",
   "language": "python",
   "name": "python3"
  },
  "language_info": {
   "codemirror_mode": {
    "name": "ipython",
    "version": 3
   },
   "file_extension": ".py",
   "mimetype": "text/x-python",
   "name": "python",
   "nbconvert_exporter": "python",
   "pygments_lexer": "ipython3",
   "version": "3.10.12"
  }
 },
 "nbformat": 4,
 "nbformat_minor": 5
}
